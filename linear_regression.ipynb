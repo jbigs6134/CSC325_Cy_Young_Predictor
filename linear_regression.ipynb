{
 "cells": [
  {
   "cell_type": "code",
   "execution_count": 424,
   "id": "866cf969",
   "metadata": {},
   "outputs": [],
   "source": [
    "import pandas as pd\n",
    "import numpy as np \n",
    "import json"
   ]
  },
  {
   "cell_type": "code",
   "execution_count": 425,
   "id": "8c2d0ea5",
   "metadata": {},
   "outputs": [],
   "source": [
    "df = pd.read_csv(\"working_data.csv\")\n",
    "\n",
    "# Separate descriptors and target\n",
    "player_descriptors = df.iloc[:, :3]\n",
    "league = df['Lg']\n",
    "cy_young_place = df['Cy_young']\n",
    "X = df.iloc[:, 3:-1]\n",
    "\n",
    "# Add league temporarily for sorting\n",
    "X['Lg'] = league\n",
    "y = cy_young_place\n",
    "\n",
    "# Create separate datasets\n",
    "x_al = X[X['Lg'] == 'AL'].drop(columns=['Lg'])\n",
    "x_nl = X[X['Lg'] == 'NL'].drop(columns=['Lg'])\n",
    "\n",
    "y_al = y[league == 'AL'].to_numpy()\n",
    "y_nl = y[league == 'NL'].to_numpy()\n",
    "\n"
   ]
  },
  {
   "cell_type": "code",
   "execution_count": 426,
   "id": "cb0b228e",
   "metadata": {},
   "outputs": [],
   "source": [
    "# Read selected features (from forest importance)\n",
    "with open('forest_importance_nl.json', 'r') as f:\n",
    "    selected_features_nl_importance = json.load(f)\n",
    "\n",
    "with open('forest_importance_al.json', 'r') as f:\n",
    "    selected_features_al_importance = json.load(f)\n",
    "\n",
    "# Read selected features (from Chi-squared)\n",
    "with open('chi2_selected_features_nl.json', 'r') as f:\n",
    "    selected_features_nl_chi2 = json.load(f)\n",
    "\n",
    "\n",
    "with open('chi2_selected_features_al.json', 'r') as f:\n",
    "    selected_features_al_chi2 = json.load(f)"
   ]
  },
  {
   "cell_type": "code",
   "execution_count": 427,
   "id": "fb6b71da",
   "metadata": {},
   "outputs": [],
   "source": [
    "#Random Forest Importance\n",
    "x_nl_importance = x_nl[selected_features_nl_importance]\n",
    "x_al_importance = x_al[selected_features_al_importance]\n",
    "\n",
    "# Chi-squared Features\n",
    "x_nl_chi2 = x_nl[selected_features_nl_chi2]\n",
    "x_al_chi2 = x_al[selected_features_al_chi2]"
   ]
  },
  {
   "cell_type": "code",
   "execution_count": 428,
   "id": "7da0cfe0",
   "metadata": {},
   "outputs": [],
   "source": [
    "#Set up matrices for x \n",
    "def createMatrix(input_df):\n",
    "    matrix = input_df.to_numpy()\n",
    "    matrix = np.column_stack([np.ones(len(input_df)), input_df])\n",
    "    return matrix\n",
    "\n",
    "x_nl_imp_matrix = createMatrix(x_nl_importance)\n",
    "x_al_imp_matrix = createMatrix(x_al_importance)\n",
    "x_nl_chi2_matrix = createMatrix(x_nl_chi2)\n",
    "x_al_chi2_matrix = createMatrix(x_al_chi2)"
   ]
  },
  {
   "cell_type": "code",
   "execution_count": 429,
   "id": "3b287e42",
   "metadata": {},
   "outputs": [],
   "source": [
    "y_nl = y_nl.reshape(len(y_nl), 1)\n",
    "y_al = y_al.reshape(len(y_al), 1)"
   ]
  },
  {
   "cell_type": "code",
   "execution_count": 430,
   "id": "060cb4f0",
   "metadata": {},
   "outputs": [],
   "source": [
    "theta_nl_imp = np.linalg.solve(x_nl_imp_matrix.T@x_nl_imp_matrix, x_nl_imp_matrix.T@y_nl)\n",
    "theta_al_imp = np.linalg.solve(x_al_imp_matrix.T@x_al_imp_matrix, x_al_imp_matrix.T@y_al)\n",
    "theta_nl_chi2 = np.linalg.solve(x_nl_chi2_matrix.T@x_nl_chi2_matrix, x_nl_chi2_matrix.T@y_nl)\n",
    "theta_al_chi2 = np.linalg.solve(x_al_chi2_matrix.T@x_al_chi2_matrix, x_al_chi2_matrix.T@y_al)\n"
   ]
  },
  {
   "cell_type": "code",
   "execution_count": 431,
   "id": "9bb70bbc",
   "metadata": {},
   "outputs": [],
   "source": [
    "y_hat_nl_imp = x_nl_imp_matrix@theta_nl_imp\n",
    "y_hat_al_imp = x_al_imp_matrix@theta_al_imp\n",
    "y_hat_nl_chi2 = x_nl_chi2_matrix@theta_nl_chi2\n",
    "y_hat_al_chi2 = x_al_chi2_matrix@theta_al_chi2\n"
   ]
  },
  {
   "cell_type": "code",
   "execution_count": 432,
   "id": "b2615f27",
   "metadata": {},
   "outputs": [],
   "source": [
    "def findSSE(y_hat, y):\n",
    "    error = y_hat - y\n",
    "    sse = np.sum(error*error)\n",
    "    return sse\n",
    "\n",
    "sse_nl_imp = findSSE(y_hat_nl_imp, y_nl)\n",
    "sse_nl_chi2 = findSSE(y_hat_nl_chi2, y_nl)\n",
    "sse_al_imp = findSSE(y_hat_al_imp, y_al)\n",
    "sse_al_chi2 = findSSE(y_hat_al_chi2, y_al)"
   ]
  },
  {
   "cell_type": "code",
   "execution_count": 433,
   "id": "185faf9f",
   "metadata": {},
   "outputs": [
    {
     "name": "stdout",
     "output_type": "stream",
     "text": [
      "Importance error: NL =  1207.9600433669286, AL = 943.5261380486745\n",
      "Chi2 error: NL = 1231.6595723819332, AL = 960.2641131523691\n"
     ]
    }
   ],
   "source": [
    "#display error\n",
    "print(f\"Importance error: NL =  {sse_nl_imp}, AL = {sse_al_imp}\")\n",
    "print(f\"Chi2 error: NL = {sse_nl_chi2}, AL = {sse_al_chi2}\")"
   ]
  },
  {
   "cell_type": "code",
   "execution_count": 434,
   "id": "fc26ba9f",
   "metadata": {},
   "outputs": [],
   "source": [
    "# Prep test data\n",
    "df_test = pd.read_csv(\"test_data.csv\")\n",
    "\n",
    "player_descriptors_test = df_test.iloc[:, :4]\n",
    "league = df_test['Lg']\n",
    "x_test = df_test.iloc[:, 4:]\n",
    "\n",
    "player_descriptors_nl = player_descriptors_test[league == 'NL'].reset_index(drop=True)\n",
    "player_descriptors_al = player_descriptors_test[league == 'AL'].reset_index(drop=True)\n",
    "\n",
    "# Add league temporarily for sorting\n",
    "x_test['Lg'] = league\n",
    "\n",
    "# Create separate datasets\n",
    "x_al_test = x_test[x_test['Lg'] == 'AL'].drop(columns=['Lg'])\n",
    "x_nl_test = x_test[x_test['Lg'] == 'NL'].drop(columns=['Lg'])\n"
   ]
  },
  {
   "cell_type": "code",
   "execution_count": 435,
   "id": "93b70e89",
   "metadata": {},
   "outputs": [],
   "source": [
    "#Random Forest Importance\n",
    "x_nl_importance_test = x_nl_test[selected_features_nl_importance]\n",
    "x_al_importance_test = x_al_test[selected_features_al_importance]\n",
    "\n",
    "# Chi-squared Features\n",
    "x_nl_chi2_test = x_nl_test[selected_features_nl_chi2]\n",
    "x_al_chi2_test = x_al_test[selected_features_al_chi2]"
   ]
  },
  {
   "cell_type": "code",
   "execution_count": 436,
   "id": "8fc40bed",
   "metadata": {},
   "outputs": [],
   "source": [
    "#generate X matrices\n",
    "nl_imp_test_matrix = createMatrix(x_nl_importance_test)\n",
    "al_imp_test_matrix = createMatrix(x_al_importance_test)\n",
    "al_chi2_test_matrix = createMatrix(x_al_chi2_test)\n",
    "nl_chi2_test_matrix = createMatrix(x_nl_chi2_test)"
   ]
  },
  {
   "cell_type": "code",
   "execution_count": 437,
   "id": "325b314c",
   "metadata": {},
   "outputs": [],
   "source": [
    "#Generate prediction matrix\n",
    "y_pred_nl_imp = nl_imp_test_matrix@theta_nl_imp\n",
    "y_pred_nl_chi2 = nl_chi2_test_matrix@theta_nl_chi2\n",
    "y_pred_al_imp = al_imp_test_matrix@theta_al_imp\n",
    "y_pred_al_chi2 = al_chi2_test_matrix@theta_al_chi2"
   ]
  },
  {
   "cell_type": "code",
   "execution_count": 438,
   "id": "e8f5135c",
   "metadata": {},
   "outputs": [],
   "source": [
    "#winner index of players\n",
    "winner_idx_nl_imp = np.argmin(y_pred_nl_imp)\n",
    "winner_idx_nl_chi2 = np.argmin(y_pred_nl_chi2)\n",
    "winner_idx_al_imp = np.argmin(y_pred_al_imp)\n",
    "winner_idx_al_chi2 = np.argmin(y_pred_al_chi2)\n"
   ]
  },
  {
   "cell_type": "code",
   "execution_count": 439,
   "id": "9d4cad53",
   "metadata": {},
   "outputs": [
    {
     "name": "stdout",
     "output_type": "stream",
     "text": [
      "125 83 83\n",
      "125\n",
      "116 60 79\n",
      "116\n"
     ]
    }
   ],
   "source": [
    "print(len(y_pred_al_imp), winner_idx_al_chi2, winner_idx_al_imp)\n",
    "print(len(player_descriptors_al))\n",
    "print(len(y_pred_nl_imp), winner_idx_nl_chi2, winner_idx_nl_imp)\n",
    "print(len(player_descriptors_nl))"
   ]
  },
  {
   "cell_type": "code",
   "execution_count": 440,
   "id": "e8b81443",
   "metadata": {},
   "outputs": [
    {
     "name": "stdout",
     "output_type": "stream",
     "text": [
      "Predicted NL Cy Young Winner (Importance Model): Rk             152.0\n",
      "Player    Kyle Leahy\n",
      "yr              25.0\n",
      "Team             STL\n",
      "Name: 79, dtype: object\n",
      "Predicted NL Cy Young Winner (Chi-Squared Model): Rk              123.0\n",
      "Player    Roki Sasaki\n",
      "yr               25.0\n",
      "Team              LAD\n",
      "Name: 60, dtype: object\n",
      "Predicted AL Cy Young Winner (Importance Model): Rk                 176.0\n",
      "Player    Justin Sterner\n",
      "yr                  25.0\n",
      "Team                 ATH\n",
      "Name: 83, dtype: object\n",
      "Predicted AL Cy Young Winner (Chi-Squared Model): Rk                 176.0\n",
      "Player    Justin Sterner\n",
      "yr                  25.0\n",
      "Team                 ATH\n",
      "Name: 83, dtype: object\n"
     ]
    }
   ],
   "source": [
    "print(\"Predicted NL Cy Young Winner (Importance Model):\", player_descriptors_nl.iloc[winner_idx_nl_imp])\n",
    "print(\"Predicted NL Cy Young Winner (Chi-Squared Model):\", player_descriptors_nl.iloc[winner_idx_nl_chi2])\n",
    "print(\"Predicted AL Cy Young Winner (Importance Model):\", player_descriptors_al.iloc[winner_idx_al_imp])\n",
    "print(\"Predicted AL Cy Young Winner (Chi-Squared Model):\", player_descriptors_al.iloc[winner_idx_al_chi2])\n"
   ]
  },
  {
   "cell_type": "markdown",
   "id": "8d7f3672",
   "metadata": {},
   "source": [
    "Retrain the model using forward selection and ridge regression, Forward will choose the attributes in place of the attribute selector"
   ]
  },
  {
   "cell_type": "code",
   "execution_count": 441,
   "id": "a25e1794",
   "metadata": {},
   "outputs": [],
   "source": [
    "sse_list_nl_imp = []\n",
    "sse_list_nl_chi2 = []\n",
    "sse_list_al_imp = []\n",
    "sse_list_al_chi2 = []\n",
    "\n",
    "selected_atts_nl_imp = []\n",
    "selected_atts_nl_chi2 = []\n",
    "selected_atts_al_imp = []\n",
    "selected_atts_al_chi2 = []\n",
    "\n",
    "def ForwardSelection(selectedAtts, remainingAtts, sse_list, X, y):\n",
    "    for step in range(len(remainingAtts)):\n",
    "        best_sse = float('inf')\n",
    "        best_attribute = None\n",
    "\n",
    "        for attribute in remainingAtts:\n",
    "            current_predictors = selectedAtts + [attribute]\n",
    "            \n",
    "            X_subset = X.loc[:, current_predictors]\n",
    "            X_matrix = createMatrix(X_subset)\n",
    "\n",
    "            theta = np.linalg.solve(X_matrix.T @ X_matrix, X_matrix.T @ y)\n",
    "            \n",
    "            y_hat = X_matrix @ theta\n",
    "            sse = findSSE(y_hat, y)\n",
    "            \n",
    "            if sse < best_sse:\n",
    "                best_sse = sse\n",
    "                best_attribute = attribute\n",
    "\n",
    "        selectedAtts.append(best_attribute)\n",
    "        remainingAtts.remove(best_attribute)\n",
    "        \n",
    "        sse_list.append(best_sse)\n",
    "\n",
    "def results(selectedAtts, sse_list):\n",
    "    for i in range(len(selectedAtts)):\n",
    "        print(f\"Step {i+1}: Selected {selectedAtts[i]}, SSE = {sse_list[i]:.2f}\")\n"
   ]
  },
  {
   "cell_type": "code",
   "execution_count": 442,
   "id": "2ca12a90",
   "metadata": {},
   "outputs": [
    {
     "name": "stdout",
     "output_type": "stream",
     "text": [
      "Forward Selection Results AL:\n",
      "\n",
      "Step 1: Selected SO, SSE = 1046.02\n",
      "Step 2: Selected CG, SSE = 1006.63\n",
      "Step 3: Selected HR, SSE = 970.26\n",
      "Step 4: Selected SO9, SSE = 944.46\n",
      "Step 5: Selected HR9, SSE = 899.15\n",
      "Step 6: Selected HBP, SSE = 887.71\n",
      "Step 7: Selected SO/BB, SSE = 880.34\n",
      "Step 8: Selected IBB, SSE = 872.11\n",
      "Step 9: Selected WP, SSE = 869.16\n",
      "Step 10: Selected H9, SSE = 866.28\n",
      "Step 11: Selected FIP, SSE = 864.43\n",
      "Step 12: Selected BB, SSE = 863.15\n",
      "Step 13: Selected IP, SSE = 859.63\n",
      "Step 14: Selected WHIP, SSE = 857.30\n",
      "Step 15: Selected BB9, SSE = 853.14\n",
      "Step 16: Selected BF, SSE = 850.30\n",
      "Step 17: Selected H, SSE = 848.88\n",
      "Step 18: Selected GS, SSE = 847.75\n",
      "Step 19: Selected G, SSE = 846.61\n",
      "Step 20: Selected W, SSE = 845.90\n",
      "Step 21: Selected W-L%, SSE = 845.26\n",
      "Step 22: Selected ERA+, SSE = 844.61\n",
      "Step 23: Selected SV, SSE = 844.07\n",
      "Step 24: Selected R, SSE = 843.60\n",
      "Step 25: Selected ERA, SSE = 843.17\n",
      "Step 26: Selected GF, SSE = 842.89\n",
      "Step 27: Selected ER, SSE = 842.61\n",
      "Step 28: Selected L, SSE = 842.53\n",
      "Step 29: Selected SHO, SSE = 842.48\n",
      "Step 30: Selected WAR, SSE = 842.48\n",
      "Step 31: Selected BK, SSE = 842.47\n",
      "Forward Selection Results NL:\n",
      "\n",
      "Step 1: Selected WAR, SSE = 1365.62\n",
      "Step 2: Selected W, SSE = 1300.55\n",
      "Step 3: Selected SO/BB, SSE = 1284.72\n",
      "Step 4: Selected IBB, SSE = 1273.70\n",
      "Step 5: Selected SO, SSE = 1262.35\n",
      "Step 6: Selected ERA+, SSE = 1246.07\n",
      "Step 7: Selected ERA, SSE = 1230.29\n",
      "Step 8: Selected L, SSE = 1221.60\n",
      "Step 9: Selected W-L%, SSE = 1174.86\n",
      "Step 10: Selected SO9, SSE = 1155.58\n",
      "Step 11: Selected ER, SSE = 1132.75\n",
      "Step 12: Selected IP, SSE = 1112.36\n",
      "Step 13: Selected HBP, SSE = 1107.52\n",
      "Step 14: Selected BB9, SSE = 1104.06\n",
      "Step 15: Selected BK, SSE = 1100.86\n",
      "Step 16: Selected SV, SSE = 1099.68\n",
      "Step 17: Selected GS, SSE = 1097.91\n",
      "Step 18: Selected CG, SSE = 1096.71\n",
      "Step 19: Selected SHO, SSE = 1095.33\n",
      "Step 20: Selected GF, SSE = 1094.38\n",
      "Step 21: Selected BF, SSE = 1093.72\n",
      "Step 22: Selected H9, SSE = 1091.25\n",
      "Step 23: Selected WHIP, SSE = 1090.23\n",
      "Step 24: Selected R, SSE = 1089.48\n",
      "Step 25: Selected HR, SSE = 1088.74\n",
      "Step 26: Selected BB, SSE = 1088.26\n",
      "Step 27: Selected H, SSE = 1087.84\n",
      "Step 28: Selected FIP, SSE = 1087.23\n",
      "Step 29: Selected HR9, SSE = 1087.12\n",
      "Step 30: Selected G, SSE = 1087.04\n",
      "Step 31: Selected WP, SSE = 1087.01\n"
     ]
    }
   ],
   "source": [
    "selected_atts_nl_fs = []\n",
    "sse_nl_forward_sel = []\n",
    "\n",
    "selected_atts_al_fs = []\n",
    "sse_al_forward_sel = []\n",
    "\n",
    "print(\"Forward Selection Results AL:\\n\")\n",
    "ForwardSelection(selected_atts_al_fs, x_al.columns.to_list(), sse_al_forward_sel, x_al, y_al)\n",
    "results(selected_atts_al_fs, sse_al_forward_sel)\n",
    "\n",
    "print(\"Forward Selection Results NL:\\n\")\n",
    "ForwardSelection(selected_atts_nl_fs, x_nl.columns.to_list(), sse_nl_forward_sel, x_nl, y_nl)\n",
    "results(selected_atts_nl_fs, sse_nl_forward_sel)\n"
   ]
  },
  {
   "cell_type": "code",
   "execution_count": 443,
   "id": "80f2e2f3",
   "metadata": {},
   "outputs": [],
   "source": [
    "atts_nl_fs = selected_atts_nl_fs[:10]\n",
    "atts_al_fs = selected_atts_al_fs[:10]\n",
    "\n",
    "\n",
    "x_nl_fs = x_nl[selected_atts_nl_fs]\n",
    "x_al_fs = x_al[selected_atts_al_fs]\n",
    "\n",
    "x_nl_fs = createMatrix(x_nl_fs)\n",
    "x_al_fs = createMatrix(x_al_fs)\n"
   ]
  },
  {
   "cell_type": "markdown",
   "id": "717e4b1f",
   "metadata": {},
   "source": [
    "I will perform ridge regression on all sets"
   ]
  },
  {
   "cell_type": "code",
   "execution_count": 444,
   "id": "7a5b7f5c",
   "metadata": {},
   "outputs": [],
   "source": [
    "def ridgeRegression(x, y):\n",
    "    theta = np.linalg.solve(x.T@x + 0.5*np.eye(x.shape[1]), x.T@y)\n",
    "    return theta"
   ]
  },
  {
   "cell_type": "code",
   "execution_count": 445,
   "id": "3906d874",
   "metadata": {},
   "outputs": [],
   "source": [
    "theta_al_fs_ridged = ridgeRegression(x_al_fs, y_al)\n",
    "theta_al_imp_ridged = ridgeRegression(x_al_imp_matrix, y_al)\n",
    "theta_al_chi2_ridged = ridgeRegression(x_al_chi2_matrix, y_al)\n",
    "theta_nl_fs_ridged = ridgeRegression(x_nl_fs, y_nl)\n",
    "theta_nl_imp_ridged = ridgeRegression(x_nl_imp_matrix, y_nl)\n",
    "theta_nl_chi2_ridged = ridgeRegression(x_nl_chi2_matrix, y_nl)\n"
   ]
  },
  {
   "cell_type": "code",
   "execution_count": 446,
   "id": "c64237e6",
   "metadata": {},
   "outputs": [],
   "source": [
    "y_hat_nl_imp_ridged = x_nl_imp_matrix@theta_nl_imp_ridged\n",
    "y_hat_al_imp_ridged = x_al_imp_matrix@theta_al_imp_ridged\n",
    "y_hat_nl_chi2_ridged = x_nl_chi2_matrix@theta_nl_chi2_ridged\n",
    "y_hat_al_chi2_ridged = x_al_chi2_matrix@theta_al_chi2_ridged\n",
    "y_hat_nl_fs = x_nl_fs@theta_nl_fs_ridged\n",
    "y_hat_al_fs = x_al_fs@theta_al_fs_ridged"
   ]
  },
  {
   "cell_type": "code",
   "execution_count": 447,
   "id": "37fbae0c",
   "metadata": {},
   "outputs": [],
   "source": [
    "x_nl_fs_test = x_nl_test[selected_atts_nl_fs]\n",
    "x_al_fs_test = x_al_test[selected_atts_al_fs]\n",
    "x_nl_fs_test = createMatrix(x_nl_fs_test)\n",
    "x_al_fs_test = createMatrix(x_al_fs_test)"
   ]
  },
  {
   "cell_type": "code",
   "execution_count": 448,
   "id": "fbc287a0",
   "metadata": {},
   "outputs": [],
   "source": [
    "y_pred_nl_imp_ridged = nl_imp_test_matrix@theta_nl_imp_ridged\n",
    "y_pred_nl_chi2_ridged = nl_chi2_test_matrix@theta_nl_chi2_ridged\n",
    "y_pred_al_imp_ridged = al_imp_test_matrix@theta_al_imp_ridged\n",
    "y_pred_al_chi2_ridged = al_chi2_test_matrix@theta_al_chi2_ridged\n",
    "y_pred_nl_fs = x_nl_fs_test@theta_nl_fs_ridged\n",
    "y_pred_al_fs = x_al_fs_test@theta_al_fs_ridged"
   ]
  },
  {
   "cell_type": "code",
   "execution_count": 449,
   "id": "92a1ecf6",
   "metadata": {},
   "outputs": [],
   "source": [
    "winner_idx_nl_imp_ridged = np.argmin(y_pred_nl_imp_ridged)\n",
    "winner_idx_nl_chi2_ridged = np.argmin(y_pred_nl_chi2_ridged)\n",
    "winner_idx_al_imp_ridged = np.argmin(y_pred_al_imp_ridged)\n",
    "winner_idx_al_chi2_ridged = np.argmin(y_pred_al_chi2_ridged)\n",
    "winner_idx_nl_fs = np.argmin(y_pred_nl_fs)\n",
    "winner_idx_al_fs = np.argmin(y_pred_al_fs)"
   ]
  },
  {
   "cell_type": "code",
   "execution_count": 450,
   "id": "d54e0661",
   "metadata": {},
   "outputs": [
    {
     "name": "stdout",
     "output_type": "stream",
     "text": [
      "Predicted Cy Young Winners with Ridge Regression\n",
      "NL (Importance Model): Rk             152.0\n",
      "Player    Kyle Leahy\n",
      "yr              25.0\n",
      "Team             STL\n",
      "Name: 79, dtype: object\n",
      "NL (Chi-Squared Model): Rk              123.0\n",
      "Player    Roki Sasaki\n",
      "yr               25.0\n",
      "Team              LAD\n",
      "Name: 60, dtype: object\n",
      "NL (Forward Selection): Rk             152.0\n",
      "Player    Kyle Leahy\n",
      "yr              25.0\n",
      "Team             STL\n",
      "Name: 79, dtype: object\n",
      "AL (Forward Selection): Rk               153.0\n",
      "Player    Jack Dreyer*\n",
      "yr                25.0\n",
      "Team               LAD\n",
      "Name: 80, dtype: object\n",
      "AL (Importance Model): Rk                 176.0\n",
      "Player    Justin Sterner\n",
      "yr                  25.0\n",
      "Team                 ATH\n",
      "Name: 83, dtype: object\n",
      "AL(Chi-Squared Model): Rk                 176.0\n",
      "Player    Justin Sterner\n",
      "yr                  25.0\n",
      "Team                 ATH\n",
      "Name: 83, dtype: object\n"
     ]
    }
   ],
   "source": [
    "print(\"Predicted Cy Young Winners with Ridge Regression\")\n",
    "print(\"NL (Importance Model):\", player_descriptors_nl.iloc[winner_idx_nl_imp_ridged])\n",
    "print(\"NL (Chi-Squared Model):\", player_descriptors_nl.iloc[winner_idx_nl_chi2_ridged])\n",
    "print(\"NL (Forward Selection):\", player_descriptors_nl.iloc[winner_idx_nl_fs])\n",
    "print(\"AL (Forward Selection):\", player_descriptors_nl.iloc[winner_idx_al_fs])\n",
    "print(\"AL (Importance Model):\", player_descriptors_al.iloc[winner_idx_al_imp_ridged])\n",
    "print(\"AL(Chi-Squared Model):\", player_descriptors_al.iloc[winner_idx_al_chi2_ridged])\n"
   ]
  }
 ],
 "metadata": {
  "kernelspec": {
   "display_name": "Python 3",
   "language": "python",
   "name": "python3"
  },
  "language_info": {
   "codemirror_mode": {
    "name": "ipython",
    "version": 3
   },
   "file_extension": ".py",
   "mimetype": "text/x-python",
   "name": "python",
   "nbconvert_exporter": "python",
   "pygments_lexer": "ipython3",
   "version": "3.12.6"
  }
 },
 "nbformat": 4,
 "nbformat_minor": 5
}
