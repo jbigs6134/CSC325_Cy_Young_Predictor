{
 "cells": [
  {
   "cell_type": "code",
   "execution_count": 8,
   "id": "afec643d",
   "metadata": {},
   "outputs": [],
   "source": [
    "import pandas as pd\n",
    "import numpy as np\n",
    "import json\n",
    "\n"
   ]
  },
  {
   "cell_type": "code",
   "execution_count": 9,
   "id": "93daa029",
   "metadata": {},
   "outputs": [],
   "source": [
    "df = pd.read_csv(\"working_data.csv\")\n",
    "\n",
    "# Separate descriptors and target\n",
    "player_descriptors = df.iloc[:, :3]\n",
    "league = df['Lg']\n",
    "cy_young_place = df['Cy_young']\n",
    "X = df.iloc[:, 3:-2]\n",
    "\n",
    "# Add league temporarily for sorting\n",
    "X['Lg'] = league\n",
    "y = cy_young_place\n",
    "\n",
    "# Create separate datasets\n",
    "x_al = X[X['Lg'] == 'AL'].drop(columns=['Lg'])\n",
    "x_nl = X[X['Lg'] == 'NL'].drop(columns=['Lg'])\n",
    "\n",
    "y_al = y[league == 'AL']\n",
    "y_nl = y[league == 'NL']\n"
   ]
  },
  {
   "cell_type": "code",
   "execution_count": 10,
   "id": "265f50f9",
   "metadata": {},
   "outputs": [
    {
     "name": "stdout",
     "output_type": "stream",
     "text": [
      "Selected Features for NL: ['WAR', 'SO', 'ERA+', 'FIP', 'WHIP', 'IP', 'ERA', 'W', 'BF', 'SO/BB']\n",
      "Selected Features for AL: ['WAR', 'SO', 'IP', 'FIP', 'BF', 'ERA+', 'ERA', 'W', 'WHIP', 'GS']\n",
      "Selected Features for NL: ['WAR', 'W', 'ERA', 'CG', 'SHO', 'IP', 'SO', 'BF', 'ERA+', 'SO/BB']\n",
      "Selected Features for AL: ['WAR', 'W', 'CG', 'SHO', 'IP', 'SO', 'BK', 'BF', 'ERA+', 'SO/BB']\n"
     ]
    }
   ],
   "source": [
    "# Read selected features (from forest importance)\n",
    "with open('forest_importance_nl.json', 'r') as f:\n",
    "    selected_features_nl_importance = json.load(f)\n",
    "\n",
    "with open('forest_importance_al.json', 'r') as f:\n",
    "    selected_features_al_importance = json.load(f)\n",
    "\n",
    "# Read selected features (from Chi-squared)\n",
    "with open('chi2_selected_features_nl.json', 'r') as f:\n",
    "    selected_features_nl_chi2 = json.load(f)\n",
    "\n",
    "\n",
    "with open('chi2_selected_features_al.json', 'r') as f:\n",
    "    selected_features_al_chi2 = json.load(f)\n",
    "\n",
    "# Print selected features\n",
    "print(\"Selected Features for NL:\", selected_features_nl_importance)\n",
    "print(\"Selected Features for AL:\", selected_features_al_importance)\n",
    "print(\"Selected Features for NL:\", selected_features_nl_chi2)\n",
    "print(\"Selected Features for AL:\", selected_features_al_chi2)"
   ]
  },
  {
   "cell_type": "code",
   "execution_count": null,
   "id": "b5a1a7ba",
   "metadata": {},
   "outputs": [
    {
     "name": "stdout",
     "output_type": "stream",
     "text": [
      "NL (Random Forest Importance) Shape: (353, 10)\n",
      "AL (Random Forest Importance) Shape: (365, 10)\n",
      "NL (Chi-squared Features) Shape: (353, 10)\n",
      "AL (Chi-squared Features) Shape: (365, 10)\n"
     ]
    }
   ],
   "source": [
    "#Random Forest Importance\n",
    "x_nl_importance = x_nl[selected_features_nl_importance]\n",
    "x_al_importance = x_al[selected_features_al_importance]\n",
    "\n",
    "# Chi-squared Features\n",
    "x_nl_chi2 = x_nl[selected_features_nl_chi2]\n",
    "x_al_chi2 = x_al[selected_features_al_chi2]\n"
   ]
  }
 ],
 "metadata": {
  "kernelspec": {
   "display_name": "Python 3",
   "language": "python",
   "name": "python3"
  },
  "language_info": {
   "codemirror_mode": {
    "name": "ipython",
    "version": 3
   },
   "file_extension": ".py",
   "mimetype": "text/x-python",
   "name": "python",
   "nbconvert_exporter": "python",
   "pygments_lexer": "ipython3",
   "version": "3.12.6"
  }
 },
 "nbformat": 4,
 "nbformat_minor": 5
}
