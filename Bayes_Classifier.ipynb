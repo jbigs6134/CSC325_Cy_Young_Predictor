{
 "cells": [
  {
   "cell_type": "code",
   "execution_count": 103,
   "id": "2ec9884c",
   "metadata": {},
   "outputs": [],
   "source": [
    "import numpy as np\n",
    "import pandas as pd \n",
    "import json"
   ]
  },
  {
   "cell_type": "code",
   "execution_count": 168,
   "id": "ca422870",
   "metadata": {},
   "outputs": [],
   "source": [
    "df = pd.read_csv(\"working_data.csv\")\n",
    "\n",
    "# Separate descriptors and target\n",
    "player_descriptors = df.iloc[:, :3]\n",
    "league = df['Lg']\n",
    "cy_young_place = df['Cy_young']\n",
    "X = df.iloc[:, 3:-2]\n",
    "\n",
    "# Add league temporarily for sorting\n",
    "X['Lg'] = league\n",
    "y = cy_young_place\n",
    "\n",
    "# Create separate datasets\n",
    "x_al = X[X['Lg'] == 'AL'].drop(columns=['Lg'])\n",
    "x_nl = X[X['Lg'] == 'NL'].drop(columns=['Lg'])\n",
    "\n",
    "y_al = y[league == 'AL']\n",
    "y_nl = y[league == 'NL']\n",
    "\n"
   ]
  },
  {
   "cell_type": "code",
   "execution_count": 131,
   "id": "c43cf812",
   "metadata": {},
   "outputs": [
    {
     "name": "stdout",
     "output_type": "stream",
     "text": [
      "Selected Features for NL: ['WAR', 'SO', 'ERA+', 'FIP', 'WHIP', 'IP', 'ERA', 'W', 'BF', 'SO/BB']\n",
      "Selected Features for AL: ['WAR', 'SO', 'IP', 'FIP', 'BF', 'ERA+', 'ERA', 'W', 'WHIP', 'GS']\n",
      "Selected Features for NL: ['WAR', 'W', 'ERA', 'CG', 'SHO', 'IP', 'SO', 'BF', 'ERA+', 'SO/BB']\n",
      "Selected Features for AL: ['WAR', 'W', 'CG', 'SHO', 'IP', 'SO', 'BK', 'BF', 'ERA+', 'SO/BB']\n"
     ]
    }
   ],
   "source": [
    "# Read selected features (from forest importance)\n",
    "with open('forest_importance_nl.json', 'r') as f:\n",
    "    selected_features_nl_importance = json.load(f)\n",
    "\n",
    "with open('forest_importance_al.json', 'r') as f:\n",
    "    selected_features_al_importance = json.load(f)\n",
    "\n",
    "# Read selected features (from Chi-squared)\n",
    "with open('chi2_selected_features_nl.json', 'r') as f:\n",
    "    selected_features_nl_chi2 = json.load(f)\n",
    "\n",
    "\n",
    "with open('chi2_selected_features_al.json', 'r') as f:\n",
    "    selected_features_al_chi2 = json.load(f)\n",
    "\n",
    "# Print selected features\n",
    "print(\"Selected Features for NL:\", selected_features_nl_importance)\n",
    "print(\"Selected Features for AL:\", selected_features_al_importance)\n",
    "print(\"Selected Features for NL:\", selected_features_nl_chi2)\n",
    "print(\"Selected Features for AL:\", selected_features_al_chi2)"
   ]
  },
  {
   "cell_type": "code",
   "execution_count": 132,
   "id": "12b8d5f9",
   "metadata": {},
   "outputs": [],
   "source": [
    "#Random Forest Importance\n",
    "x_nl_importance = x_nl[selected_features_nl_importance]\n",
    "x_al_importance = x_al[selected_features_al_importance]\n",
    "\n",
    "# Chi-squared Features\n",
    "x_nl_chi2 = x_nl[selected_features_nl_chi2]\n",
    "x_al_chi2 = x_al[selected_features_al_chi2]"
   ]
  },
  {
   "cell_type": "code",
   "execution_count": 149,
   "id": "9eef4cdc",
   "metadata": {},
   "outputs": [],
   "source": [
    "# generate based on importance\n",
    "nl_importance = x_nl_importance.copy()\n",
    "nl_importance['Cy_young'] = y_nl\n",
    "\n",
    "for attribute in x_nl_importance:  \n",
    "    breakpoints = np.percentile(x_nl_importance[attribute], [0,10,20,30,40,50,60,70,80,90,100])\n",
    "    breakpoints[0] = x_nl_importance[attribute].min()  \n",
    "    breakpoints = np.unique(breakpoints)   \n",
    "    labels = list(range(len(breakpoints)-1))\n",
    "    nl_importance[attribute] = pd.cut(x_nl_importance[attribute], bins=breakpoints, labels=labels, include_lowest=True)\n",
    "nl_importance = nl_importance.to_numpy()"
   ]
  },
  {
   "cell_type": "code",
   "execution_count": null,
   "id": "20b03123",
   "metadata": {},
   "outputs": [],
   "source": [
    "\n",
    "Q_nl_importance = np.zeros((11,11,10))\n",
    "\n",
    "for attribute in range(11):\n",
    "  for c in range(11):\n",
    "    for v in range(10):\n",
    "      Q_nl_importance[attribute, c ,v] = np.sum((nl_importance[:, attribute] == v) & (nl_importance[:, 10] == c)) / np.sum(nl_importance[:, 10] == c)\n",
    "      \n",
    "      "
   ]
  },
  {
   "cell_type": "code",
   "execution_count": 151,
   "id": "dc99e98f",
   "metadata": {},
   "outputs": [],
   "source": [
    "P_nl_importance = np.zeros(11)\n",
    "\n",
    "for c in range(11):\n",
    "  P_nl_importance[c] = np.sum(nl_importance[:,10] == c) / len(nl_importance[:, 10])\n"
   ]
  },
  {
   "cell_type": "code",
   "execution_count": null,
   "id": "84076d58",
   "metadata": {},
   "outputs": [],
   "source": [
    "c_nl_importance = np.zeros((10,10,10,10,10))\n",
    "\n",
    "for v1 in range(10):\n",
    "  for v2 in range(10):\n",
    "    for v3 in range(10):\n",
    "      for v4 in range(10):\n",
    "        for v5 in range(10):\n",
    "          c_nl_importance[v1, v2, v3, v4, v5] = np.argmax(Q_nl_importance[0, :, v1] * \n",
    "                                                          Q_nl_importance[1, :, v2] * \n",
    "                                                          Q_nl_importance[2, :, v3] * \n",
    "                                                          Q_nl_importance[3, :, v4] * \n",
    "                                                          Q_nl_importance[4, :, v5] * P_nl_importance)\n"
   ]
  },
  {
   "cell_type": "code",
   "execution_count": 160,
   "id": "b1323991",
   "metadata": {},
   "outputs": [
    {
     "name": "stdout",
     "output_type": "stream",
     "text": [
      "\n",
      "Overall Accuracy: 0.9065155807365439\n"
     ]
    }
   ],
   "source": [
    "#Overall NL based on forest importance\n",
    "nl_importance_result = []\n",
    "nl_importance_correct = 0\n",
    "for i in range(len(nl_importance)):\n",
    "  true_class = nl_importance[i, 10]\n",
    "  estimated_class = c_nl_importance[nl_importance[i,0], nl_importance[i, 1], nl_importance[i, 2], nl_importance[i, 3], nl_importance[i,4]]\n",
    "  #print(\"true class is:\", true_class, \"estimated_class:\", estimated_class)\n",
    "  nl_importance_result.append(estimated_class)\n",
    "  if estimated_class == true_class:\n",
    "        nl_importance_correct += 1\n",
    "        \n",
    "accuracy = nl_importance_correct / len(nl_importance)\n",
    "print(\"\\nOverall Accuracy:\", accuracy)"
   ]
  },
  {
   "cell_type": "code",
   "execution_count": 156,
   "id": "529cb1e0",
   "metadata": {},
   "outputs": [],
   "source": [
    "# generate based on importance\n",
    "al_importance = x_al_importance.copy()\n",
    "al_importance['Cy_young'] = y_al\n",
    "\n",
    "for attribute in x_al_importance:  \n",
    "    breakpoints = np.percentile(x_al_importance[attribute], [0,10,20,30,40,50,60,70,80,90,100])\n",
    "    breakpoints[0] = x_al_importance[attribute].min()  \n",
    "    breakpoints = np.unique(breakpoints)   \n",
    "    labels = list(range(len(breakpoints)-1))\n",
    "    al_importance[attribute] = pd.cut(x_al_importance[attribute], bins=breakpoints, labels=labels, include_lowest=True)\n",
    "al_importance = al_importance.to_numpy()"
   ]
  },
  {
   "cell_type": "code",
   "execution_count": 157,
   "id": "a9b50c14",
   "metadata": {},
   "outputs": [],
   "source": [
    "Q_al_importance = np.zeros((11,11,10))\n",
    "\n",
    "for attribute in range(11):\n",
    "  for c in range(11):\n",
    "    for v in range(10):\n",
    "      Q_al_importance[attribute, c ,v] = np.sum((al_importance[:, attribute] == v) & (al_importance[:, 10] == c)) / np.sum(al_importance[:, 10] == c)\n"
   ]
  },
  {
   "cell_type": "code",
   "execution_count": 158,
   "id": "c5acb52f",
   "metadata": {},
   "outputs": [],
   "source": [
    "P_al_importance = np.zeros(11)\n",
    "\n",
    "for c in range(11):\n",
    "  P_al_importance[c] = np.sum(al_importance[:,10] == c) / len(al_importance[:, 10])\n"
   ]
  },
  {
   "cell_type": "code",
   "execution_count": 159,
   "id": "336e9623",
   "metadata": {},
   "outputs": [],
   "source": [
    "c_al_importance = np.zeros((10,10,10,10,10))\n",
    "\n",
    "for v1 in range(10):\n",
    "  for v2 in range(10):\n",
    "    for v3 in range(10):\n",
    "      for v4 in range(10):\n",
    "        for v5 in range(10):\n",
    "          c_al_importance[v1, v2, v3, v4, v5] = np.argmax(Q_nl_importance[0, :, v1] * \n",
    "                                                          Q_al_importance[1, :, v2] * \n",
    "                                                          Q_al_importance[2, :, v3] * \n",
    "                                                          Q_al_importance[3, :, v4] * \n",
    "                                                          Q_al_importance[4, :, v5] * P_al_importance)\n"
   ]
  },
  {
   "cell_type": "code",
   "execution_count": 161,
   "id": "b19b3771",
   "metadata": {},
   "outputs": [
    {
     "name": "stdout",
     "output_type": "stream",
     "text": [
      "\n",
      "Overall Accuracy: 0.9205479452054794\n"
     ]
    }
   ],
   "source": [
    "#Overall AL based on forest importance\n",
    "al_importance_result = []\n",
    "al_importance_correct = 0\n",
    "for i in range(len(al_importance)):\n",
    "  true_class = al_importance[i, 10]\n",
    "  estimated_class = c_al_importance[al_importance[i,0], al_importance[i, 1], al_importance[i, 2], al_importance[i, 3], al_importance[i,4]]\n",
    "  #print(\"true class is:\", true_class, \"estimated_class:\", estimated_class)\n",
    "  al_importance_result.append(estimated_class)\n",
    "  if estimated_class == true_class:\n",
    "        al_importance_correct += 1\n",
    "        \n",
    "accuracy = al_importance_correct / len(al_importance)\n",
    "print(\"\\nOverall Accuracy:\", accuracy)"
   ]
  },
  {
   "cell_type": "code",
   "execution_count": 169,
   "id": "f195c104",
   "metadata": {},
   "outputs": [],
   "source": [
    "# generate based on chi squared importance\n",
    "nl_chi2 = x_nl_chi2.copy()\n",
    "nl_chi2['Cy_young'] = y_nl\n",
    "\n",
    "for attribute in x_nl_chi2:  \n",
    "    breakpoints = np.percentile(x_nl_chi2[attribute], [0,10,20,30,40,50,60,70,80,90,100])\n",
    "    breakpoints[0] = x_nl_chi2[attribute].min()  \n",
    "    breakpoints = np.unique(breakpoints)   \n",
    "    labels = list(range(len(breakpoints)-1))\n",
    "    nl_chi2[attribute] = pd.cut(x_nl_chi2[attribute], bins=breakpoints, labels=labels, include_lowest=True)\n",
    "nl_chi2 = nl_chi2.to_numpy()"
   ]
  },
  {
   "cell_type": "code",
   "execution_count": 170,
   "id": "56cfd0df",
   "metadata": {},
   "outputs": [],
   "source": [
    "Q_nl_chi2 = np.zeros((11,11,10))\n",
    "\n",
    "for attribute in range(11):\n",
    "  for c in range(11):\n",
    "    for v in range(10):\n",
    "      Q_nl_chi2[attribute, c ,v] = np.sum((nl_chi2[:, attribute] == v) & (nl_chi2[:, 10] == c)) / np.sum(nl_chi2[:, 10] == c)\n",
    "      \n",
    "      "
   ]
  },
  {
   "cell_type": "code",
   "execution_count": 171,
   "id": "08dcdf14",
   "metadata": {},
   "outputs": [],
   "source": [
    "P_nl_chi2 = np.zeros(11)\n",
    "\n",
    "for c in range(11):\n",
    "  P_nl_chi2[c] = np.sum(nl_chi2[:,10] == c) / len(nl_chi2[:, 10])\n"
   ]
  },
  {
   "cell_type": "code",
   "execution_count": 172,
   "id": "3bd6c60b",
   "metadata": {},
   "outputs": [],
   "source": [
    "c_nl_chi2 = np.zeros((10,10,10,10,10))\n",
    "\n",
    "for v1 in range(10):\n",
    "  for v2 in range(10):\n",
    "    for v3 in range(10):\n",
    "      for v4 in range(10):\n",
    "        for v5 in range(10):\n",
    "          c_nl_chi2[v1, v2, v3, v4, v5] = np.argmax(Q_nl_chi2[0, :, v1] * \n",
    "                                                          Q_nl_chi2[1, :, v2] * \n",
    "                                                          Q_nl_chi2[2, :, v3] * \n",
    "                                                          Q_nl_chi2[3, :, v4] * \n",
    "                                                          Q_nl_chi2[4, :, v5] * P_nl_chi2)\n"
   ]
  },
  {
   "cell_type": "code",
   "execution_count": null,
   "id": "e4ab70a4",
   "metadata": {},
   "outputs": [
    {
     "name": "stdout",
     "output_type": "stream",
     "text": [
      "\n",
      "Overall Accuracy: 0.8725212464589235\n"
     ]
    }
   ],
   "source": [
    "#Overall NL based on chi squared importance\n",
    "nl_chi2_result = []\n",
    "nl_chi2_correct = 0\n",
    "for i in range(len(nl_chi2)):\n",
    "  true_class = nl_chi2[i, 10]\n",
    "  estimated_class = c_nl_chi2[nl_chi2[i,0], nl_chi2[i, 1], nl_chi2[i, 2], nl_chi2[i, 3], nl_chi2[i,4]]\n",
    "  #print(\"true class is:\", true_class, \"estimated_class:\", estimated_class)\n",
    "  nl_chi2_result.append(estimated_class)\n",
    "  if estimated_class == true_class:\n",
    "        nl_chi2_correct += 1\n",
    "        \n",
    "accuracy = nl_chi2_correct / len(nl_chi2)\n",
    "print(\"\\nOverall Accuracy:\", accuracy)"
   ]
  },
  {
   "cell_type": "code",
   "execution_count": 174,
   "id": "23031169",
   "metadata": {},
   "outputs": [],
   "source": [
    "# generate based on chi squared importance\n",
    "al_chi2 = x_al_chi2.copy()\n",
    "al_chi2['Cy_young'] = y_al\n",
    "\n",
    "for attribute in x_al_chi2:  \n",
    "    breakpoints = np.percentile(x_al_chi2[attribute], [0,10,20,30,40,50,60,70,80,90,100])\n",
    "    breakpoints[0] = x_al_chi2[attribute].min()  \n",
    "    breakpoints = np.unique(breakpoints)   \n",
    "    labels = list(range(len(breakpoints)-1))\n",
    "    al_chi2[attribute] = pd.cut(x_al_chi2[attribute], bins=breakpoints, labels=labels, include_lowest=True)\n",
    "al_chi2 = al_chi2.to_numpy()"
   ]
  },
  {
   "cell_type": "code",
   "execution_count": 175,
   "id": "bb2aa9b7",
   "metadata": {},
   "outputs": [],
   "source": [
    "Q_al_chi2 = np.zeros((11,11,10))\n",
    "\n",
    "for attribute in range(11):\n",
    "  for c in range(11):\n",
    "    for v in range(10):\n",
    "      Q_al_chi2[attribute, c ,v] = np.sum((al_chi2[:, attribute] == v) & (al_chi2[:, 10] == c)) / np.sum(al_chi2[:, 10] == c)\n",
    "      "
   ]
  },
  {
   "cell_type": "code",
   "execution_count": 176,
   "id": "fa7e5d6e",
   "metadata": {},
   "outputs": [],
   "source": [
    "P_al_chi2 = np.zeros(11)\n",
    "\n",
    "for c in range(11):\n",
    "  P_al_chi2[c] = np.sum(al_chi2[:,10] == c) / len(al_chi2[:, 10])\n"
   ]
  },
  {
   "cell_type": "code",
   "execution_count": 177,
   "id": "bfd277b5",
   "metadata": {},
   "outputs": [],
   "source": [
    "c_al_chi2 = np.zeros((10,10,10,10,10))\n",
    "\n",
    "for v1 in range(10):\n",
    "  for v2 in range(10):\n",
    "    for v3 in range(10):\n",
    "      for v4 in range(10):\n",
    "        for v5 in range(10):\n",
    "          c_al_chi2[v1, v2, v3, v4, v5] = np.argmax(Q_al_chi2[0, :, v1] * \n",
    "                                                    Q_al_chi2[1, :, v2] * \n",
    "                                                    Q_al_chi2[2, :, v3] * \n",
    "                                                    Q_al_chi2[3, :, v4] * \n",
    "                                                    Q_al_chi2[4, :, v5] * P_al_chi2)\n"
   ]
  },
  {
   "cell_type": "code",
   "execution_count": null,
   "id": "a737c388",
   "metadata": {},
   "outputs": [
    {
     "name": "stdout",
     "output_type": "stream",
     "text": [
      "\n",
      "Overall Accuracy: 0.8986301369863013\n"
     ]
    }
   ],
   "source": [
    "#Overall aL based on chi squared importance\n",
    "al_chi2_result = []\n",
    "al_chi2_correct = 0\n",
    "for i in range(len(al_chi2)):\n",
    "  true_class = al_chi2[i, 10]\n",
    "  estimated_class = c_al_chi2[al_chi2[i,0], al_chi2[i, 1], al_chi2[i, 2], al_chi2[i, 3], al_chi2[i,4]]\n",
    "  #print(\"true class is:\", true_class, \"estimated_class:\", estimated_class)\n",
    "  al_chi2_result.append(estimated_class)\n",
    "  if estimated_class == true_class:\n",
    "        al_chi2_correct += 1\n",
    "        \n",
    "accuracy = al_chi2_correct / len(al_chi2)\n",
    "print(\"\\nOverall Accuracy:\", accuracy)"
   ]
  }
 ],
 "metadata": {
  "kernelspec": {
   "display_name": "Python 3",
   "language": "python",
   "name": "python3"
  },
  "language_info": {
   "codemirror_mode": {
    "name": "ipython",
    "version": 3
   },
   "file_extension": ".py",
   "mimetype": "text/x-python",
   "name": "python",
   "nbconvert_exporter": "python",
   "pygments_lexer": "ipython3",
   "version": "3.9.13"
  }
 },
 "nbformat": 4,
 "nbformat_minor": 5
}
