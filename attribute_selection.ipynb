{
 "cells": [
  {
   "cell_type": "code",
   "execution_count": 1,
   "id": "ab0586af",
   "metadata": {},
   "outputs": [],
   "source": [
    "from sklearn.feature_selection import SelectKBest, f_regression, RFE, chi2\n",
    "from sklearn.ensemble import RandomForestRegressor\n",
    "from sklearn.preprocessing import MinMaxScaler\n",
    "from sklearn.linear_model import LinearRegression\n",
    "import pandas as pd\n",
    "import numpy as np\n"
   ]
  },
  {
   "cell_type": "code",
   "execution_count": 2,
   "id": "0876db1d",
   "metadata": {},
   "outputs": [
    {
     "name": "stdout",
     "output_type": "stream",
     "text": [
      "     Lg  WAR   W   L   W-L%   ERA   G  GS  GF  CG  ...  WP   BF  ERA+   FIP  \\\n",
      "0    AL  4.3  11   9  0.550  3.53  31  31   0   1  ...  12  720   124  3.79   \n",
      "1    NL  5.1  14   7  0.667  3.25  33  33   0   1  ...   4  835   138  3.49   \n",
      "2    NL  4.6  15   9  0.625  2.90  32  32   0   0  ...   6  787   136  3.03   \n",
      "3    NL  3.7  14   8  0.636  3.57  33  33   0   1  ...   2  820   115  3.94   \n",
      "4    NL  3.0  12   6  0.667  3.47  32  32   0   0  ...   4  738   112  3.83   \n",
      "..   ..  ...  ..  ..    ...   ...  ..  ..  ..  ..  ...  ..  ...   ...   ...   \n",
      "713  NL -1.4   3   8  0.273  6.80  20  20   0   0  ...   3  417    61  5.86   \n",
      "714  NL -1.5   4  12  0.250  5.92  29  24   4   0  ...   0  567    68  4.98   \n",
      "715  NL -1.9   5  11  0.313  7.40  21  21   0   0  ...   1  484    59  5.99   \n",
      "716  NL -2.3   6  19  0.240  6.31  31  31   0   1  ...   2  713    62  4.83   \n",
      "717  NL -2.8   5  14  0.263  7.39  24  24   0   0  ...   3  469    57  6.17   \n",
      "\n",
      "      WHIP    H9  HR9  BB9   SO9  SO/BB  \n",
      "0    1.103   7.3  1.4  2.6  10.1   3.87  \n",
      "1    1.183   7.5  1.1  3.1  10.6   3.40  \n",
      "2    1.159   8.1  0.5  2.3   7.6   3.33  \n",
      "3    1.199   8.5  1.4  2.3   8.9   3.94  \n",
      "4    1.084   6.6  1.0  3.1   9.1   2.92  \n",
      "..     ...   ...  ...  ...   ...    ...  \n",
      "713  1.700  11.5  1.8  3.8   6.6   1.74  \n",
      "714  1.454  10.1  1.4  3.0   6.0   2.02  \n",
      "715  1.901  13.5  1.8  3.7   4.9   1.34  \n",
      "716  1.697  12.4  1.6  2.9   7.5   2.61  \n",
      "717  1.774  11.9  2.2  4.0   7.6   1.89  \n",
      "\n",
      "[718 rows x 32 columns]\n"
     ]
    }
   ],
   "source": [
    "df = pd.read_csv(\"working_data.csv\")\n",
    "\n",
    "# Separate the player descriptors (first 3 columns) and keep them in a separate DataFrame\n",
    "player_descriptors = df.iloc[:, :3]\n",
    "\n",
    "# Extract the relevant columns: league and statistics\n",
    "league = df['Lg'] \n",
    "cy_young_place = df['Cy_young']  \n",
    "X = df.iloc[:, 3:-2]  # All columns between the descriptors and the target column\n",
    "print(X)\n",
    "\n",
    "\n"
   ]
  },
  {
   "cell_type": "code",
   "execution_count": 13,
   "id": "d1118579",
   "metadata": {},
   "outputs": [],
   "source": [
    "# Convert League to numeric (0 for AL, 1 for NL)\n",
    "league_encoded = league.map({'AL': 0, 'NL': 1})\n",
    "\n",
    "# Add the encoded league as a feature to X\n",
    "X['Lg'] = league_encoded\n"
   ]
  },
  {
   "cell_type": "code",
   "execution_count": 5,
   "id": "c87fd231",
   "metadata": {},
   "outputs": [],
   "source": [
    "# Convert League to numeric (0 for AL, 1 for NL)\n",
    "league_encoded = league.map({'AL': 0, 'NL': 1})\n",
    "\n",
    "# Add the encoded league as a feature to X\n",
    "X['Lg'] = league_encoded"
   ]
  },
  {
   "cell_type": "code",
   "execution_count": 6,
   "id": "f16cc8af",
   "metadata": {},
   "outputs": [
    {
     "name": "stdout",
     "output_type": "stream",
     "text": [
      "attributes: \n",
      "       Lg  WAR   W   L   W-L%   ERA   G  GS  GF  CG  ...  WP   BF  ERA+   FIP  \\\n",
      "0     0  4.3  11   9  0.550  3.53  31  31   0   1  ...  12  720   124  3.79   \n",
      "1     1  5.1  14   7  0.667  3.25  33  33   0   1  ...   4  835   138  3.49   \n",
      "2     1  4.6  15   9  0.625  2.90  32  32   0   0  ...   6  787   136  3.03   \n",
      "3     1  3.7  14   8  0.636  3.57  33  33   0   1  ...   2  820   115  3.94   \n",
      "4     1  3.0  12   6  0.667  3.47  32  32   0   0  ...   4  738   112  3.83   \n",
      "..   ..  ...  ..  ..    ...   ...  ..  ..  ..  ..  ...  ..  ...   ...   ...   \n",
      "713   1 -1.4   3   8  0.273  6.80  20  20   0   0  ...   3  417    61  5.86   \n",
      "714   1 -1.5   4  12  0.250  5.92  29  24   4   0  ...   0  567    68  4.98   \n",
      "715   1 -1.9   5  11  0.313  7.40  21  21   0   0  ...   1  484    59  5.99   \n",
      "716   1 -2.3   6  19  0.240  6.31  31  31   0   1  ...   2  713    62  4.83   \n",
      "717   1 -2.8   5  14  0.263  7.39  24  24   0   0  ...   3  469    57  6.17   \n",
      "\n",
      "      WHIP    H9  HR9  BB9   SO9  SO/BB  \n",
      "0    1.103   7.3  1.4  2.6  10.1   3.87  \n",
      "1    1.183   7.5  1.1  3.1  10.6   3.40  \n",
      "2    1.159   8.1  0.5  2.3   7.6   3.33  \n",
      "3    1.199   8.5  1.4  2.3   8.9   3.94  \n",
      "4    1.084   6.6  1.0  3.1   9.1   2.92  \n",
      "..     ...   ...  ...  ...   ...    ...  \n",
      "713  1.700  11.5  1.8  3.8   6.6   1.74  \n",
      "714  1.454  10.1  1.4  3.0   6.0   2.02  \n",
      "715  1.901  13.5  1.8  3.7   4.9   1.34  \n",
      "716  1.697  12.4  1.6  2.9   7.5   2.61  \n",
      "717  1.774  11.9  2.2  4.0   7.6   1.89  \n",
      "\n",
      "[718 rows x 32 columns]\n",
      "target: \n",
      " 0      11\n",
      "1      11\n",
      "2      11\n",
      "3      11\n",
      "4      11\n",
      "       ..\n",
      "713     0\n",
      "714     0\n",
      "715     0\n",
      "716     0\n",
      "717     0\n",
      "Name: Cy_young, Length: 718, dtype: int64\n"
     ]
    }
   ],
   "source": [
    "y = cy_young_place # Target variable is Cy Young place\n",
    "print(\"attributes: \\n \", X)\n",
    "print(\"target: \\n\", y)\n"
   ]
  },
  {
   "cell_type": "markdown",
   "id": "f27b7e6a",
   "metadata": {},
   "source": [
    "Use the chiSquared feature to select 5 attributes, these attributes have the most effect on the dataset."
   ]
  },
  {
   "cell_type": "code",
   "execution_count": 7,
   "id": "cd0684b1",
   "metadata": {},
   "outputs": [
    {
     "name": "stdout",
     "output_type": "stream",
     "text": [
      "Top 5 features affecting Cy Young prediction using SelectKBest with Chi-squared test:\n",
      "Index(['WAR', 'W', 'ERA', 'CG', 'SHO', 'IP', 'SO', 'BF', 'ERA+', 'SO/BB'], dtype='object')\n"
     ]
    }
   ],
   "source": [
    "scaler = MinMaxScaler()\n",
    "X_scaled = scaler.fit_transform(X)\n",
    "\n",
    "# Select the top 5 features using SelectKBest with chi-squared test\n",
    "selector = SelectKBest(chi2, k=10)\n",
    "X_new = selector.fit_transform(X_scaled, y)\n",
    "\n",
    "# Get the selected feature names\n",
    "selected_indices = selector.get_support(indices=True)\n",
    "selected_features = X.columns[selected_indices]\n",
    "\n",
    "print(\"Top 5 features affecting Cy Young prediction using SelectKBest with Chi-squared test:\")\n",
    "print(selected_features)"
   ]
  },
  {
   "cell_type": "markdown",
   "id": "b013a2d3",
   "metadata": {},
   "source": [
    "Use the RandomForestClassifier(Did research and it showed that this was an effective way to rank attributes)"
   ]
  },
  {
   "cell_type": "code",
   "execution_count": 8,
   "id": "465c7db2",
   "metadata": {},
   "outputs": [
    {
     "name": "stdout",
     "output_type": "stream",
     "text": [
      "Feature Importance Weights (sorted):\n",
      "   Feature  Importance\n",
      "1      WAR    0.106045\n",
      "25     FIP    0.077295\n",
      "19      SO    0.071539\n",
      "12      IP    0.069249\n",
      "5      ERA    0.062902\n",
      "24    ERA+    0.060072\n",
      "23      BF    0.047883\n",
      "2        W    0.045728\n",
      "26    WHIP    0.037830\n",
      "31   SO/BB    0.033313\n",
      "27      H9    0.030633\n",
      "30     SO9    0.028154\n",
      "14       R    0.026694\n",
      "13       H    0.026671\n",
      "4     W-L%    0.026289\n",
      "22      WP    0.026217\n",
      "28     HR9    0.024227\n",
      "15      ER    0.023849\n",
      "7       GS    0.021656\n",
      "17      BB    0.021028\n",
      "20     HBP    0.020735\n",
      "16      HR    0.019794\n",
      "29     BB9    0.019739\n",
      "3        L    0.015957\n",
      "6        G    0.013229\n",
      "18     IBB    0.010596\n",
      "9       CG    0.009340\n",
      "21      BK    0.008840\n",
      "0       Lg    0.006981\n",
      "10     SHO    0.006811\n",
      "8       GF    0.000644\n",
      "11      SV    0.000058\n"
     ]
    }
   ],
   "source": [
    "from sklearn.ensemble import RandomForestClassifier\n",
    "\n",
    "# Train the Random Forest model\n",
    "rf_model = RandomForestClassifier(random_state=42)\n",
    "rf_model.fit(X_scaled, y)\n",
    "\n",
    "# Get the feature importances (how much each feature contributes to the model)\n",
    "importances = rf_model.feature_importances_\n",
    "\n",
    "# Create a DataFrame to display the feature names and their corresponding importance\n",
    "feature_importance_df = pd.DataFrame({\n",
    "    'Feature': X.columns,\n",
    "    'Importance': importances\n",
    "})\n",
    "\n",
    "# Sort by importance\n",
    "feature_importance_df = feature_importance_df.sort_values(by='Importance', ascending=False)\n",
    "\n",
    "# Display the weighted features\n",
    "print(\"Feature Importance Weights (sorted):\")\n",
    "print(feature_importance_df)\n"
   ]
  }
 ],
 "metadata": {
  "kernelspec": {
   "display_name": "Python 3",
   "language": "python",
   "name": "python3"
  },
  "language_info": {
   "codemirror_mode": {
    "name": "ipython",
    "version": 3
   },
   "file_extension": ".py",
   "mimetype": "text/x-python",
   "name": "python",
   "nbconvert_exporter": "python",
   "pygments_lexer": "ipython3",
   "version": "3.12.6"
  }
 },
 "nbformat": 4,
 "nbformat_minor": 5
}
